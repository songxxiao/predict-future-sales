{
 "cells": [
  {
   "cell_type": "markdown",
   "metadata": {},
   "source": [
    "sales_train.csv - the training set. Daily historical data from January 2013 to October 2015.   \n",
    "test.csv - the test set. You need to forecast the sales for these shops and products for November 2015.   \n",
    "sample_submission.csv - a sample submission file in the correct format.   \n",
    "items.csv - supplemental information about the items/products.   \n",
    "item_categories.csv  - supplemental information about the items categories.   \n",
    "shops.csv- supplemental information about the shops.\n",
    "\n",
    "教训，将数据类型改为int8会导致负数的出现\n",
    "\n",
    "<style>\n",
    "code, kbd, pre, samp {\n",
    "    font-family:'consolas', Lucida Console, SimSun, Fira Code, Monaco !important;\n",
    "    font-size: 11pt !important;\n",
    "}\n",
    "\n",
    "div.output_area pre {\n",
    "    font-family: 'consolas', Lucida Console, SimSun, Fira Code, Monaco !important;\n",
    "    font-size:  10pt !important;\n",
    "}\n",
    "\n",
    "div.output_area img, div.output_area svg {\n",
    "    background-color: #FFFFFF !important;\n",
    "}\n",
    "</style>"
   ]
  },
  {
   "cell_type": "code",
   "execution_count": 1,
   "metadata": {},
   "outputs": [
    {
     "name": "stdout",
     "output_type": "stream",
     "text": [
      "items has 22170 rows and 3 columns\n",
      "shops has 60 rows and 2 columns\n",
      "cats has 84 rows and 2 columns\n",
      "train has 2935849 rows and 6 columns\n",
      "test has 214200 rows and 2 columns\n",
      "loading data costs 1.31 seconds\n"
     ]
    }
   ],
   "source": [
    "import numpy as np\n",
    "import pandas as pd\n",
    "import time\n",
    "pd.set_option('display.max_rows', 500)\n",
    "pd.set_option('display.max_columns', 100)\n",
    "from sklearn.preprocessing import LabelEncoder\n",
    "import gc\n",
    "from time_series_pipeline import *\n",
    "from tqdm import tqdm\n",
    "from scipy import stats\n",
    "from catboost import CatBoostRegressor\n",
    "import lightgbm as lgb\n",
    "from sklearn import preprocessing, metrics\n",
    "from sklearn.model_selection import TimeSeriesSplit\n",
    "from itertools import product\n",
    "\n",
    "items, shops, cats, train, test = load_data()"
   ]
  },
  {
   "cell_type": "code",
   "execution_count": 2,
   "metadata": {},
   "outputs": [
    {
     "name": "stdout",
     "output_type": "stream",
     "text": [
      "data has 1609122 rows and 4 columns\n",
      "The program costs 603.98 seconds\n"
     ]
    },
    {
     "data": {
      "text/html": [
       "<div>\n",
       "<style scoped>\n",
       "    .dataframe tbody tr th:only-of-type {\n",
       "        vertical-align: middle;\n",
       "    }\n",
       "\n",
       "    .dataframe tbody tr th {\n",
       "        vertical-align: top;\n",
       "    }\n",
       "\n",
       "    .dataframe thead th {\n",
       "        text-align: right;\n",
       "    }\n",
       "</style>\n",
       "<table border=\"1\" class=\"dataframe\">\n",
       "  <thead>\n",
       "    <tr style=\"text-align: right;\">\n",
       "      <th></th>\n",
       "      <th>date_block_num</th>\n",
       "      <th>shop_id</th>\n",
       "      <th>item_id</th>\n",
       "      <th>id</th>\n",
       "      <th>item_cnt_month</th>\n",
       "      <th>city_code</th>\n",
       "      <th>item_category_id</th>\n",
       "      <th>type_code</th>\n",
       "      <th>subtype_code</th>\n",
       "      <th>item_price</th>\n",
       "    </tr>\n",
       "  </thead>\n",
       "  <tbody>\n",
       "    <tr>\n",
       "      <th>0</th>\n",
       "      <td>0</td>\n",
       "      <td>2</td>\n",
       "      <td>19</td>\n",
       "      <td>2_19</td>\n",
       "      <td>0.0</td>\n",
       "      <td>0</td>\n",
       "      <td>40</td>\n",
       "      <td>11</td>\n",
       "      <td>4</td>\n",
       "      <td>NaN</td>\n",
       "    </tr>\n",
       "    <tr>\n",
       "      <th>1</th>\n",
       "      <td>0</td>\n",
       "      <td>2</td>\n",
       "      <td>27</td>\n",
       "      <td>2_27</td>\n",
       "      <td>1.0</td>\n",
       "      <td>0</td>\n",
       "      <td>19</td>\n",
       "      <td>5</td>\n",
       "      <td>10</td>\n",
       "      <td>2499.0</td>\n",
       "    </tr>\n",
       "    <tr>\n",
       "      <th>2</th>\n",
       "      <td>0</td>\n",
       "      <td>2</td>\n",
       "      <td>28</td>\n",
       "      <td>2_28</td>\n",
       "      <td>0.0</td>\n",
       "      <td>0</td>\n",
       "      <td>30</td>\n",
       "      <td>8</td>\n",
       "      <td>55</td>\n",
       "      <td>NaN</td>\n",
       "    </tr>\n",
       "    <tr>\n",
       "      <th>3</th>\n",
       "      <td>0</td>\n",
       "      <td>2</td>\n",
       "      <td>29</td>\n",
       "      <td>2_29</td>\n",
       "      <td>0.0</td>\n",
       "      <td>0</td>\n",
       "      <td>23</td>\n",
       "      <td>5</td>\n",
       "      <td>16</td>\n",
       "      <td>NaN</td>\n",
       "    </tr>\n",
       "    <tr>\n",
       "      <th>4</th>\n",
       "      <td>0</td>\n",
       "      <td>2</td>\n",
       "      <td>32</td>\n",
       "      <td>2_32</td>\n",
       "      <td>0.0</td>\n",
       "      <td>0</td>\n",
       "      <td>40</td>\n",
       "      <td>11</td>\n",
       "      <td>4</td>\n",
       "      <td>149.0</td>\n",
       "    </tr>\n",
       "    <tr>\n",
       "      <th>...</th>\n",
       "      <td>...</td>\n",
       "      <td>...</td>\n",
       "      <td>...</td>\n",
       "      <td>...</td>\n",
       "      <td>...</td>\n",
       "      <td>...</td>\n",
       "      <td>...</td>\n",
       "      <td>...</td>\n",
       "      <td>...</td>\n",
       "      <td>...</td>\n",
       "    </tr>\n",
       "    <tr>\n",
       "      <th>11127999</th>\n",
       "      <td>34</td>\n",
       "      <td>45</td>\n",
       "      <td>18454</td>\n",
       "      <td>45_18454</td>\n",
       "      <td>0.0</td>\n",
       "      <td>20</td>\n",
       "      <td>55</td>\n",
       "      <td>13</td>\n",
       "      <td>2</td>\n",
       "      <td>199.0</td>\n",
       "    </tr>\n",
       "    <tr>\n",
       "      <th>11128000</th>\n",
       "      <td>34</td>\n",
       "      <td>45</td>\n",
       "      <td>16188</td>\n",
       "      <td>45_16188</td>\n",
       "      <td>0.0</td>\n",
       "      <td>20</td>\n",
       "      <td>64</td>\n",
       "      <td>14</td>\n",
       "      <td>42</td>\n",
       "      <td>NaN</td>\n",
       "    </tr>\n",
       "    <tr>\n",
       "      <th>11128001</th>\n",
       "      <td>34</td>\n",
       "      <td>45</td>\n",
       "      <td>15757</td>\n",
       "      <td>45_15757</td>\n",
       "      <td>0.0</td>\n",
       "      <td>20</td>\n",
       "      <td>55</td>\n",
       "      <td>13</td>\n",
       "      <td>2</td>\n",
       "      <td>199.0</td>\n",
       "    </tr>\n",
       "    <tr>\n",
       "      <th>11128002</th>\n",
       "      <td>34</td>\n",
       "      <td>45</td>\n",
       "      <td>19648</td>\n",
       "      <td>45_19648</td>\n",
       "      <td>0.0</td>\n",
       "      <td>20</td>\n",
       "      <td>40</td>\n",
       "      <td>11</td>\n",
       "      <td>4</td>\n",
       "      <td>NaN</td>\n",
       "    </tr>\n",
       "    <tr>\n",
       "      <th>11128003</th>\n",
       "      <td>34</td>\n",
       "      <td>45</td>\n",
       "      <td>969</td>\n",
       "      <td>45_969</td>\n",
       "      <td>0.0</td>\n",
       "      <td>20</td>\n",
       "      <td>37</td>\n",
       "      <td>11</td>\n",
       "      <td>1</td>\n",
       "      <td>549.0</td>\n",
       "    </tr>\n",
       "  </tbody>\n",
       "</table>\n",
       "<p>11128004 rows × 10 columns</p>\n",
       "</div>"
      ],
      "text/plain": [
       "          date_block_num  shop_id  item_id        id  item_cnt_month  \\\n",
       "0                      0        2       19      2_19             0.0   \n",
       "1                      0        2       27      2_27             1.0   \n",
       "2                      0        2       28      2_28             0.0   \n",
       "3                      0        2       29      2_29             0.0   \n",
       "4                      0        2       32      2_32             0.0   \n",
       "...                  ...      ...      ...       ...             ...   \n",
       "11127999              34       45    18454  45_18454             0.0   \n",
       "11128000              34       45    16188  45_16188             0.0   \n",
       "11128001              34       45    15757  45_15757             0.0   \n",
       "11128002              34       45    19648  45_19648             0.0   \n",
       "11128003              34       45      969    45_969             0.0   \n",
       "\n",
       "          city_code  item_category_id  type_code  subtype_code  item_price  \n",
       "0                 0                40         11             4         NaN  \n",
       "1                 0                19          5            10      2499.0  \n",
       "2                 0                30          8            55         NaN  \n",
       "3                 0                23          5            16         NaN  \n",
       "4                 0                40         11             4       149.0  \n",
       "...             ...               ...        ...           ...         ...  \n",
       "11127999         20                55         13             2       199.0  \n",
       "11128000         20                64         14            42         NaN  \n",
       "11128001         20                55         13             2       199.0  \n",
       "11128002         20                40         11             4         NaN  \n",
       "11128003         20                37         11             1       549.0  \n",
       "\n",
       "[11128004 rows x 10 columns]"
      ]
     },
     "execution_count": 2,
     "metadata": {},
     "output_type": "execute_result"
    }
   ],
   "source": [
    "df = data_transform(items, shops, cats, train, test)\n",
    "del items, shops, cats, train\n",
    "gc.collect()\n",
    "df"
   ]
  },
  {
   "cell_type": "code",
   "execution_count": 3,
   "metadata": {},
   "outputs": [
    {
     "name": "stdout",
     "output_type": "stream",
     "text": [
      "The program costs 110.94 seconds\n"
     ]
    }
   ],
   "source": [
    "df.sort_values(by = ['shop_id','item_id','date_block_num'], inplace = True)\n",
    "df.reset_index(inplace = True)\n",
    "\n",
    "start = time.time()\n",
    "\n",
    "df['lag_1'] = groupby_shift(df, 'item_cnt_month', ['shop_id','item_id'], 1)\n",
    "df['lag_2'] = groupby_shift(df, 'item_cnt_month', ['shop_id','item_id'], 2)\n",
    "df['lag_3'] = groupby_shift(df, 'item_cnt_month', ['shop_id','item_id'], 3)\n",
    "df['lag_6'] = groupby_shift(df, 'item_cnt_month', ['shop_id','item_id'], 6)\n",
    "df['lag_12'] = groupby_shift(df, 'item_cnt_month', ['shop_id','item_id'], 12)\n",
    "\n",
    "df['lag_3_roll_avg_3'] = df['lag_3'].rolling(3).mean().astype(np.float32)\n",
    "df['lag_3_roll_avg_6'] = df['lag_3'].rolling(6).mean().astype(np.float32)\n",
    "df['lag_12_roll_avg_6'] = df['lag_6'].rolling(6).mean().astype(np.float32)\n",
    "\n",
    "df['price_shift_1'] = groupby_shift(df, 'item_price', ['shop_id','item_id'], 1)\n",
    "df['price_shift_2'] = groupby_shift(df, 'item_price', ['shop_id','item_id'], 2)\n",
    "df['price_shift_3'] = groupby_shift(df, 'item_price', ['shop_id','item_id'], 3)\n",
    "df['price_shift_6'] = groupby_shift(df, 'item_price', ['shop_id','item_id'], 6)\n",
    "df['price_shift_12'] = groupby_shift(df, 'item_price', ['shop_id','item_id'], 12)\n",
    "\n",
    "'''\n",
    "df['mon_avg_item_cnt'] = groupby_shift(df, 'item_cnt_month', 'date_block_num', 1)\n",
    "df['mon_avg_item_cnt'] = df.groupby(['date_block_num'])['mon_avg_item_cnt'].transform(lambda x: x.mean())\n",
    "\n",
    "group = ['date_block_num', 'item_id']\n",
    "df['mon_item_avg_1'] = groupby_shift(df, 'item_cnt_month', group, 1)\n",
    "df['mon_item_avg_1'] = df.groupby(group)['mon_item_avg_1'].transform(lambda x: x.mean())\n",
    "df['mon_item_avg_2'] = groupby_shift(df, 'item_cnt_month', group, 2)\n",
    "df['mon_item_avg_2'] = df.groupby(group)['mon_item_avg_2'].transform(lambda x: x.mean())\n",
    "df['mon_item_avg_6'] = groupby_shift(df, 'item_cnt_month', group, 6)\n",
    "df['mon_item_avg_6'] = df.groupby(group)['mon_item_avg_6'].transform(lambda x: x.mean())\n",
    "\n",
    "group = ['date_block_num', 'shop_id']\n",
    "df['mon_shop_1'] = groupby_shift(df, 'item_cnt_month', group, 1)\n",
    "df['mon_shop_1'] = df.groupby(group)['mon_shop_1'].transform(lambda x: x.mean())\n",
    "\n",
    "group = ['date_block_num', 'shop_id', 'item_category_id']\n",
    "df['mon_shop_item_1'] = groupby_shift(df, 'item_cnt_month', group, 1)\n",
    "df['mon_shop_item_1'] = df.groupby(group)['mon_shop_item_1'].transform(lambda x: x.mean())\n",
    "\n",
    "group = ['date_block_num', 'shop_id', 'subtype_code']\n",
    "df['mon_shop_sub_1'] = groupby_shift(df, 'item_cnt_month', group, 1)\n",
    "df['mon_shop_sub_1'] = df.groupby(group)['mon_shop_sub_1'].transform(lambda x: x.mean())\n",
    "\n",
    "group = ['date_block_num', 'city_code']\n",
    "df['mon_city_avg_1'] = groupby_shift(df, 'item_cnt_month', group, 1)\n",
    "df['mon_city_avg_1'] = df.groupby(group)['mon_city_avg_1'].transform(lambda x: x.mean())\n",
    "\n",
    "group = ['date_block_num', 'item_id', 'city_code']\n",
    "df['mon_item_city_avg_1'] = groupby_shift(df, 'item_cnt_month', group, 1)\n",
    "df['mon_item_city_avg_1'] = df.groupby(group)['mon_item_city_avg_1'].transform(lambda x: x.mean())\n",
    "\n",
    "group = ['date_block_num', 'type_code']\n",
    "df['mon_type_avg_1'] = groupby_shift(df, 'item_cnt_month', group, 1)\n",
    "df['mon_type_avg_1'] = df.groupby(group)['mon_type_avg_1'].transform(lambda x: x.mean())\n",
    "\n",
    "group = ['date_block_num', 'subtype_code']\n",
    "df['mon_subtype_avg_1'] = groupby_shift(df, 'item_cnt_month', group, 1)\n",
    "df['mon_subtype_avg_1'] = df.groupby(group)['mon_subtype_avg_1'].transform(lambda x: x.mean())\n",
    "'''\n",
    "#df['shift6_rolling6_mean'] = df.groupby(['id'])['item_cnt_month'].transform(lambda x: x.shift(6).rolling(6).mean())\n",
    "#df['shift2_rolling2_mean'] = df.groupby(['id'])['item_cnt_month'].transform(lambda x: x.shift(2).rolling(2).mean())\n",
    "#df['shift3_rolling1_mean'] = df.groupby(['id'])['item_cnt_month'].transform(lambda x: x.shift(3).rolling(1).mean())   \n",
    "#df['shift3_rolling2_mean'] = df.groupby(['id'])['item_cnt_month'].transform(lambda x: x.shift(3).rolling(2).mean())\n",
    "#df['shift6_rolling6_mean'] = df.groupby(['id'])['item_cnt_month'].transform(lambda x: x.shift(6).rolling(6).mean())\n",
    "print('The program costs %.2f seconds'%(time.time() - start))"
   ]
  },
  {
   "cell_type": "code",
   "execution_count": 4,
   "metadata": {},
   "outputs": [],
   "source": [
    "group = df.groupby(['date_block_num']).agg({'item_cnt_month': ['mean']})\n",
    "group.columns = ['date_cnt']\n",
    "group.reset_index(inplace = True)\n",
    "\n",
    "df = pd.merge(df, group, on = ['date_block_num'], how = 'left')\n",
    "df['date_cnt'] = df['date_cnt'].astype(np.float16)\n",
    "df = lag_feature(df, [1], 'date_cnt')\n",
    "df.drop(['date_cnt'], axis = 1, inplace = True)\n",
    "\n",
    "group = df.groupby(['date_block_num', 'item_id']).agg({'item_cnt_month': ['mean']})\n",
    "group.columns = ['date_item']\n",
    "group.reset_index(inplace = True)\n",
    "\n",
    "df = pd.merge(df, group, on = ['date_block_num','item_id'], how = 'left')\n",
    "df['date_item'] = df['date_item'].astype(np.float16)\n",
    "df = lag_feature(df, [1,2,3,6,12], 'date_item')\n",
    "df.drop(['date_item'], axis = 1, inplace = True)\n",
    "\n",
    "group = df.groupby(['date_block_num', 'shop_id']).agg({'item_cnt_month': ['mean']})\n",
    "group.columns = ['date_shop']\n",
    "group.reset_index(inplace=True)\n",
    "\n",
    "df = pd.merge(df, group, on=['date_block_num','shop_id'], how='left')\n",
    "df['date_shop'] = df['date_shop'].astype(np.float16)\n",
    "df = lag_feature(df, [1,2,3,6,12], 'date_shop')\n",
    "df.drop(['date_shop'], axis = 1, inplace = True)\n",
    "\n",
    "group = df.groupby(['date_block_num', 'item_category_id']).agg({'item_cnt_month': ['mean']})\n",
    "group.columns = ['date_cat']\n",
    "group.reset_index(inplace=True)\n",
    "\n",
    "df = pd.merge(df, group, on=['date_block_num','item_category_id'], how='left')\n",
    "df['date_cat'] = df['date_cat'].astype(np.float16)\n",
    "df = lag_feature(df, [1], 'date_cat')\n",
    "df.drop(['date_cat'], axis = 1, inplace=True)"
   ]
  },
  {
   "cell_type": "code",
   "execution_count": 5,
   "metadata": {},
   "outputs": [
    {
     "data": {
      "text/plain": [
       "Index(['index', 'date_block_num', 'shop_id', 'item_id', 'id', 'item_cnt_month',\n",
       "       'city_code', 'item_category_id', 'type_code', 'subtype_code',\n",
       "       'item_price', 'lag_1', 'lag_2', 'lag_3', 'lag_6', 'lag_12',\n",
       "       'lag_3_roll_avg_3', 'lag_3_roll_avg_6', 'lag_12_roll_avg_6',\n",
       "       'price_shift_1', 'price_shift_2', 'price_shift_3', 'price_shift_6',\n",
       "       'price_shift_12', 'date_cnt_lag_1', 'date_item_lag_1',\n",
       "       'date_item_lag_2', 'date_item_lag_3', 'date_item_lag_6',\n",
       "       'date_item_lag_12', 'date_shop_lag_1', 'date_shop_lag_2',\n",
       "       'date_shop_lag_3', 'date_shop_lag_6', 'date_shop_lag_12',\n",
       "       'date_cat_lag_1'],\n",
       "      dtype='object')"
      ]
     },
     "execution_count": 5,
     "metadata": {},
     "output_type": "execute_result"
    }
   ],
   "source": [
    "df = fill_na(df)\n",
    "df.columns"
   ]
  },
  {
   "cell_type": "code",
   "execution_count": 6,
   "metadata": {},
   "outputs": [],
   "source": [
    "#group = ['item_id','date_block_num']\n",
    "#df.sort_values(by = group, inplace = True)\n",
    "#df\n",
    "#df['mon_item_avg_1'] = groupby_shift(df, 'item_cnt_month',  'item_id', 1)"
   ]
  },
  {
   "cell_type": "code",
   "execution_count": 7,
   "metadata": {},
   "outputs": [
    {
     "data": {
      "text/plain": [
       "\"\\ndf['price_shift_1'] = groupby_shift(df, 'item_price', 'id', 1)\\ndf['price_shift_2'] = groupby_shift(df, 'item_price', 'id', 2)\\ndf['price_shift_3'] = groupby_shift(df, 'item_price', 'id', 3)\\ndf['price_shift_6'] = groupby_shift(df, 'item_price', 'id', 6)\\ndf['price_shift_12'] = groupby_shift(df, 'item_price', 'id', 12)\\n\""
      ]
     },
     "execution_count": 7,
     "metadata": {},
     "output_type": "execute_result"
    }
   ],
   "source": [
    "'''\n",
    "df['price_shift_1'] = groupby_shift(df, 'item_price', 'id', 1)\n",
    "df['price_shift_2'] = groupby_shift(df, 'item_price', 'id', 2)\n",
    "df['price_shift_3'] = groupby_shift(df, 'item_price', 'id', 3)\n",
    "df['price_shift_6'] = groupby_shift(df, 'item_price', 'id', 6)\n",
    "df['price_shift_12'] = groupby_shift(df, 'item_price', 'id', 12)\n",
    "'''"
   ]
  },
  {
   "cell_type": "code",
   "execution_count": 8,
   "metadata": {},
   "outputs": [
    {
     "name": "stdout",
     "output_type": "stream",
     "text": [
      "data has 6639294 rows and 37 columns\n"
     ]
    }
   ],
   "source": [
    "\n",
    "'''\n",
    "def recode_na(df, cols):\n",
    "    #recode na value by grouped average\n",
    "    #\n",
    "    for i in tqdm(cols):\n",
    "        df[i] = df[i].transform(lambda x: x.fillna(x.median()))\n",
    "    return df\n",
    "\n",
    "colz = ['shift_1', 'shift_2', 'shift_3', 'shift_6', 'shift_12',\n",
    "       'shift_3_roll_avg_3', 'shift_3_roll_avg_6', 'shift_12_roll_avg_6',\n",
    "       'price_lag_1', 'price_lag_2', 'price_lag_3', 'price_lag_6',\n",
    "       'price_lag_12']\n",
    "\n",
    "df = recode_na(df, colz)\n",
    "'''\n",
    "    \n",
    "df['month'] = df['date_block_num'] % 12\n",
    "df = df[df['date_block_num'] > 11]\n",
    "print('data has {} rows and {} columns'.format(df.shape[0], df.shape[1]))"
   ]
  },
  {
   "cell_type": "code",
   "execution_count": 9,
   "metadata": {},
   "outputs": [
    {
     "data": {
      "text/plain": [
       "Index(['index', 'date_block_num', 'shop_id', 'item_id', 'id', 'item_cnt_month',\n",
       "       'city_code', 'item_category_id', 'type_code', 'subtype_code',\n",
       "       'item_price', 'lag_1', 'lag_2', 'lag_3', 'lag_6', 'lag_12',\n",
       "       'lag_3_roll_avg_3', 'lag_3_roll_avg_6', 'lag_12_roll_avg_6',\n",
       "       'price_shift_1', 'price_shift_2', 'price_shift_3', 'price_shift_6',\n",
       "       'price_shift_12', 'date_cnt_lag_1', 'date_item_lag_1',\n",
       "       'date_item_lag_2', 'date_item_lag_3', 'date_item_lag_6',\n",
       "       'date_item_lag_12', 'date_shop_lag_1', 'date_shop_lag_2',\n",
       "       'date_shop_lag_3', 'date_shop_lag_6', 'date_shop_lag_12',\n",
       "       'date_cat_lag_1', 'month'],\n",
       "      dtype='object')"
      ]
     },
     "execution_count": 9,
     "metadata": {},
     "output_type": "execute_result"
    }
   ],
   "source": [
    "df.columns"
   ]
  },
  {
   "cell_type": "code",
   "execution_count": 10,
   "metadata": {},
   "outputs": [],
   "source": [
    "features = ['date_block_num',\n",
    "            'month',\n",
    "            'shop_id',\n",
    "            'item_id',\n",
    "            'city_code', \n",
    "            'item_category_id', \n",
    "            'type_code', \n",
    "            'subtype_code',\n",
    "            'lag_1', 'lag_2', 'lag_3', 'lag_6', 'lag_12',\n",
    "       'price_shift_1', 'price_shift_2', 'price_shift_3', 'price_shift_6',\n",
    "       'price_shift_12', 'date_cnt_lag_1', 'date_item_lag_1',\n",
    "       'date_item_lag_2', 'date_item_lag_3', 'date_item_lag_6',\n",
    "       'date_item_lag_12', 'date_shop_lag_1', 'date_shop_lag_2',\n",
    "       'date_shop_lag_3', 'date_shop_lag_6', 'date_shop_lag_12',\n",
    "       'date_cat_lag_1']\n",
    "cat_features = ['month', 'shop_id','item_id','city_code', 'item_category_id', 'type_code', 'subtype_code']"
   ]
  },
  {
   "cell_type": "markdown",
   "metadata": {},
   "source": [
    "https://catboost.ai/docs/concepts/parameter-tuning.html\n",
    "https://catboost.ai/docs/concepts/python-reference_catboostregressor.html"
   ]
  },
  {
   "cell_type": "code",
   "execution_count": 11,
   "metadata": {},
   "outputs": [
    {
     "name": "stdout",
     "output_type": "stream",
     "text": [
      "Training fold 1\n"
     ]
    },
    {
     "name": "stderr",
     "output_type": "stream",
     "text": [
      "Warning: Overfitting detector is active, thus evaluation metric is calculated on every iteration. 'metric_period' is ignored for evaluation metric.\n"
     ]
    },
    {
     "name": "stdout",
     "output_type": "stream",
     "text": [
      "0:\tlearn: 1.1751902\ttest: 1.1571493\tbest: 1.1571493 (0)\ttotal: 2.28s\tremaining: 57m 3s\n",
      "50:\tlearn: 0.8390499\ttest: 0.9663702\tbest: 0.9663702 (50)\ttotal: 1m 26s\tremaining: 40m 56s\n",
      "100:\tlearn: 0.7660659\ttest: 0.9413103\tbest: 0.9413103 (100)\ttotal: 2m 45s\tremaining: 38m 18s\n",
      "150:\tlearn: 0.7462132\ttest: 0.9314054\tbest: 0.9314054 (150)\ttotal: 4m 17s\tremaining: 38m 21s\n",
      "200:\tlearn: 0.7348245\ttest: 0.9309967\tbest: 0.9305658 (185)\ttotal: 5m 47s\tremaining: 37m 26s\n",
      "250:\tlearn: 0.7263604\ttest: 0.9297506\tbest: 0.9293779 (239)\ttotal: 7m 18s\tremaining: 36m 21s\n",
      "Stopped by overfitting detector  (28 iterations wait)\n",
      "\n",
      "bestTest = 0.9293779142\n",
      "bestIteration = 239\n",
      "\n",
      "Shrink model to first 240 iterations.\n",
      "--------------------------------------------------\n",
      "\n",
      "\n",
      "Training fold 2\n"
     ]
    },
    {
     "name": "stderr",
     "output_type": "stream",
     "text": [
      "Warning: Overfitting detector is active, thus evaluation metric is calculated on every iteration. 'metric_period' is ignored for evaluation metric.\n"
     ]
    },
    {
     "name": "stdout",
     "output_type": "stream",
     "text": [
      "0:\tlearn: 1.1655876\ttest: 1.2838766\tbest: 1.2838766 (0)\ttotal: 3.05s\tremaining: 1h 16m 14s\n",
      "50:\tlearn: 0.8421455\ttest: 1.0593893\tbest: 1.0593893 (50)\ttotal: 1m 59s\tremaining: 56m 40s\n",
      "100:\tlearn: 0.7795154\ttest: 1.0324092\tbest: 1.0324092 (100)\ttotal: 4m 24s\tremaining: 1h 1m 9s\n",
      "150:\tlearn: 0.7579704\ttest: 1.0234693\tbest: 1.0234131 (149)\ttotal: 7m 4s\tremaining: 1h 3m 15s\n",
      "200:\tlearn: 0.7466644\ttest: 1.0169183\tbest: 1.0168365 (199)\ttotal: 9m 41s\tremaining: 1h 2m 40s\n",
      "250:\tlearn: 0.7385426\ttest: 1.0171915\tbest: 1.0163283 (233)\ttotal: 12m 16s\tremaining: 1h 1m 4s\n"
     ]
    },
    {
     "ename": "KeyboardInterrupt",
     "evalue": "",
     "output_type": "error",
     "traceback": [
      "\u001b[1;31m---------------------------------------------------------------------------\u001b[0m",
      "\u001b[1;31mKeyboardInterrupt\u001b[0m                         Traceback (most recent call last)",
      "\u001b[1;32m<ipython-input-11-6bf1b9ac9f70>\u001b[0m in \u001b[0;36m<module>\u001b[1;34m\u001b[0m\n\u001b[0;32m      1\u001b[0m \u001b[1;31m#test_pred = train_lightgbm(df)\u001b[0m\u001b[1;33m\u001b[0m\u001b[1;33m\u001b[0m\u001b[1;33m\u001b[0m\u001b[0m\n\u001b[1;32m----> 2\u001b[1;33m \u001b[0mtest_pred_cat\u001b[0m \u001b[1;33m=\u001b[0m \u001b[0mtrain_catboost\u001b[0m\u001b[1;33m(\u001b[0m\u001b[0mdf\u001b[0m\u001b[1;33m)\u001b[0m\u001b[1;33m\u001b[0m\u001b[1;33m\u001b[0m\u001b[0m\n\u001b[0m",
      "\u001b[1;32mE:\\some_code\\py_basic\\competitive-data-science-predict-future-sales\\code\\time_series_pipeline.py\u001b[0m in \u001b[0;36mtrain_catboost\u001b[1;34m(df)\u001b[0m\n\u001b[0;32m    233\u001b[0m               \u001b[0muse_best_model\u001b[0m \u001b[1;33m=\u001b[0m \u001b[1;32mTrue\u001b[0m\u001b[1;33m,\u001b[0m\u001b[1;33m\u001b[0m\u001b[1;33m\u001b[0m\u001b[0m\n\u001b[0;32m    234\u001b[0m               \u001b[0mcat_features\u001b[0m \u001b[1;33m=\u001b[0m \u001b[0mcat_features\u001b[0m\u001b[1;33m,\u001b[0m\u001b[1;33m\u001b[0m\u001b[1;33m\u001b[0m\u001b[0m\n\u001b[1;32m--> 235\u001b[1;33m               verbose = 50)\n\u001b[0m\u001b[0;32m    236\u001b[0m \u001b[1;33m\u001b[0m\u001b[0m\n\u001b[0;32m    237\u001b[0m         \u001b[0mval_pred\u001b[0m\u001b[1;33m[\u001b[0m\u001b[0mval_idx\u001b[0m\u001b[1;33m]\u001b[0m \u001b[1;33m=\u001b[0m \u001b[0mmodel\u001b[0m\u001b[1;33m.\u001b[0m\u001b[0mpredict\u001b[0m\u001b[1;33m(\u001b[0m\u001b[0mx_train\u001b[0m\u001b[1;33m.\u001b[0m\u001b[0miloc\u001b[0m\u001b[1;33m[\u001b[0m\u001b[0mval_idx\u001b[0m\u001b[1;33m]\u001b[0m\u001b[1;33m[\u001b[0m\u001b[0mfeatures\u001b[0m\u001b[1;33m]\u001b[0m\u001b[1;33m)\u001b[0m \u001b[1;31m# prediction\u001b[0m\u001b[1;33m\u001b[0m\u001b[1;33m\u001b[0m\u001b[0m\n",
      "\u001b[1;32mC:\\ProgramData\\Anaconda3\\lib\\site-packages\\catboost\\core.py\u001b[0m in \u001b[0;36mfit\u001b[1;34m(self, X, y, cat_features, sample_weight, baseline, use_best_model, eval_set, verbose, logging_level, plot, column_description, verbose_eval, metric_period, silent, early_stopping_rounds, save_snapshot, snapshot_file, snapshot_interval, init_model)\u001b[0m\n\u001b[0;32m   4660\u001b[0m                          \u001b[0muse_best_model\u001b[0m\u001b[1;33m,\u001b[0m \u001b[0meval_set\u001b[0m\u001b[1;33m,\u001b[0m \u001b[0mverbose\u001b[0m\u001b[1;33m,\u001b[0m \u001b[0mlogging_level\u001b[0m\u001b[1;33m,\u001b[0m \u001b[0mplot\u001b[0m\u001b[1;33m,\u001b[0m \u001b[0mcolumn_description\u001b[0m\u001b[1;33m,\u001b[0m\u001b[1;33m\u001b[0m\u001b[1;33m\u001b[0m\u001b[0m\n\u001b[0;32m   4661\u001b[0m                          \u001b[0mverbose_eval\u001b[0m\u001b[1;33m,\u001b[0m \u001b[0mmetric_period\u001b[0m\u001b[1;33m,\u001b[0m \u001b[0msilent\u001b[0m\u001b[1;33m,\u001b[0m \u001b[0mearly_stopping_rounds\u001b[0m\u001b[1;33m,\u001b[0m\u001b[1;33m\u001b[0m\u001b[1;33m\u001b[0m\u001b[0m\n\u001b[1;32m-> 4662\u001b[1;33m                          save_snapshot, snapshot_file, snapshot_interval, init_model)\n\u001b[0m\u001b[0;32m   4663\u001b[0m \u001b[1;33m\u001b[0m\u001b[0m\n\u001b[0;32m   4664\u001b[0m     \u001b[1;32mdef\u001b[0m \u001b[0mpredict\u001b[0m\u001b[1;33m(\u001b[0m\u001b[0mself\u001b[0m\u001b[1;33m,\u001b[0m \u001b[0mdata\u001b[0m\u001b[1;33m,\u001b[0m \u001b[0mprediction_type\u001b[0m\u001b[1;33m=\u001b[0m\u001b[1;32mNone\u001b[0m\u001b[1;33m,\u001b[0m \u001b[0mntree_start\u001b[0m\u001b[1;33m=\u001b[0m\u001b[1;36m0\u001b[0m\u001b[1;33m,\u001b[0m \u001b[0mntree_end\u001b[0m\u001b[1;33m=\u001b[0m\u001b[1;36m0\u001b[0m\u001b[1;33m,\u001b[0m \u001b[0mthread_count\u001b[0m\u001b[1;33m=\u001b[0m\u001b[1;33m-\u001b[0m\u001b[1;36m1\u001b[0m\u001b[1;33m,\u001b[0m \u001b[0mverbose\u001b[0m\u001b[1;33m=\u001b[0m\u001b[1;32mNone\u001b[0m\u001b[1;33m)\u001b[0m\u001b[1;33m:\u001b[0m\u001b[1;33m\u001b[0m\u001b[1;33m\u001b[0m\u001b[0m\n",
      "\u001b[1;32mC:\\ProgramData\\Anaconda3\\lib\\site-packages\\catboost\\core.py\u001b[0m in \u001b[0;36m_fit\u001b[1;34m(self, X, y, cat_features, text_features, pairs, sample_weight, group_id, group_weight, subgroup_id, pairs_weight, baseline, use_best_model, eval_set, verbose, logging_level, plot, column_description, verbose_eval, metric_period, silent, early_stopping_rounds, save_snapshot, snapshot_file, snapshot_interval, init_model)\u001b[0m\n\u001b[0;32m   1741\u001b[0m                 \u001b[0mparams\u001b[0m\u001b[1;33m,\u001b[0m\u001b[1;33m\u001b[0m\u001b[1;33m\u001b[0m\u001b[0m\n\u001b[0;32m   1742\u001b[0m                 \u001b[0mallow_clear_pool\u001b[0m\u001b[1;33m,\u001b[0m\u001b[1;33m\u001b[0m\u001b[1;33m\u001b[0m\u001b[0m\n\u001b[1;32m-> 1743\u001b[1;33m                 \u001b[0mtrain_params\u001b[0m\u001b[1;33m[\u001b[0m\u001b[1;34m\"init_model\"\u001b[0m\u001b[1;33m]\u001b[0m\u001b[1;33m\u001b[0m\u001b[1;33m\u001b[0m\u001b[0m\n\u001b[0m\u001b[0;32m   1744\u001b[0m             )\n\u001b[0;32m   1745\u001b[0m \u001b[1;33m\u001b[0m\u001b[0m\n",
      "\u001b[1;32mC:\\ProgramData\\Anaconda3\\lib\\site-packages\\catboost\\core.py\u001b[0m in \u001b[0;36m_train\u001b[1;34m(self, train_pool, test_pool, params, allow_clear_pool, init_model)\u001b[0m\n\u001b[0;32m   1228\u001b[0m \u001b[1;33m\u001b[0m\u001b[0m\n\u001b[0;32m   1229\u001b[0m     \u001b[1;32mdef\u001b[0m \u001b[0m_train\u001b[0m\u001b[1;33m(\u001b[0m\u001b[0mself\u001b[0m\u001b[1;33m,\u001b[0m \u001b[0mtrain_pool\u001b[0m\u001b[1;33m,\u001b[0m \u001b[0mtest_pool\u001b[0m\u001b[1;33m,\u001b[0m \u001b[0mparams\u001b[0m\u001b[1;33m,\u001b[0m \u001b[0mallow_clear_pool\u001b[0m\u001b[1;33m,\u001b[0m \u001b[0minit_model\u001b[0m\u001b[1;33m)\u001b[0m\u001b[1;33m:\u001b[0m\u001b[1;33m\u001b[0m\u001b[1;33m\u001b[0m\u001b[0m\n\u001b[1;32m-> 1230\u001b[1;33m         \u001b[0mself\u001b[0m\u001b[1;33m.\u001b[0m\u001b[0m_object\u001b[0m\u001b[1;33m.\u001b[0m\u001b[0m_train\u001b[0m\u001b[1;33m(\u001b[0m\u001b[0mtrain_pool\u001b[0m\u001b[1;33m,\u001b[0m \u001b[0mtest_pool\u001b[0m\u001b[1;33m,\u001b[0m \u001b[0mparams\u001b[0m\u001b[1;33m,\u001b[0m \u001b[0mallow_clear_pool\u001b[0m\u001b[1;33m,\u001b[0m \u001b[0minit_model\u001b[0m\u001b[1;33m.\u001b[0m\u001b[0m_object\u001b[0m \u001b[1;32mif\u001b[0m \u001b[0minit_model\u001b[0m \u001b[1;32melse\u001b[0m \u001b[1;32mNone\u001b[0m\u001b[1;33m)\u001b[0m\u001b[1;33m\u001b[0m\u001b[1;33m\u001b[0m\u001b[0m\n\u001b[0m\u001b[0;32m   1231\u001b[0m         \u001b[0mself\u001b[0m\u001b[1;33m.\u001b[0m\u001b[0m_set_trained_model_attributes\u001b[0m\u001b[1;33m(\u001b[0m\u001b[1;33m)\u001b[0m\u001b[1;33m\u001b[0m\u001b[1;33m\u001b[0m\u001b[0m\n\u001b[0;32m   1232\u001b[0m \u001b[1;33m\u001b[0m\u001b[0m\n",
      "\u001b[1;32m_catboost.pyx\u001b[0m in \u001b[0;36m_catboost._CatBoost._train\u001b[1;34m()\u001b[0m\n",
      "\u001b[1;32m_catboost.pyx\u001b[0m in \u001b[0;36m_catboost._CatBoost._train\u001b[1;34m()\u001b[0m\n",
      "\u001b[1;31mKeyboardInterrupt\u001b[0m: "
     ]
    }
   ],
   "source": [
    "#test_pred = train_lightgbm(df)\n",
    "test_pred_cat = train_catboost(df)"
   ]
  },
  {
   "cell_type": "code",
   "execution_count": null,
   "metadata": {},
   "outputs": [],
   "source": [
    "submission = make_output(test_pred_cat)"
   ]
  },
  {
   "cell_type": "code",
   "execution_count": null,
   "metadata": {},
   "outputs": [],
   "source": [
    "submission['item_cnt_month'].isna().value_counts()"
   ]
  },
  {
   "cell_type": "code",
   "execution_count": null,
   "metadata": {},
   "outputs": [],
   "source": [
    "len(submission)"
   ]
  },
  {
   "cell_type": "markdown",
   "metadata": {},
   "source": [
    "```\n",
    "Index               67512848\n",
    "date                67512848\n",
    "date_block_num       8439106\n",
    "shop_id              8439106\n",
    "item_id             16878212\n",
    "item_price          33756424\n",
    "item_cnt_day         8439106\n",
    "city_code            8439106\n",
    "item_category_id     8439106\n",
    "type_code            8439106\n",
    "subtype_code         8439106\n",
    "lag_1               67512848\n",
    "dtype: int64\n",
    "```\n",
    "\n",
    "```\n",
    "Training fold 1\n",
    "Warning: Overfitting detector is active, thus evaluation metric is calculated on every iteration. 'metric_period' is ignored for evaluation metric.\n",
    "0:\tlearn: 1.1757494\ttest: 1.1575727\tbest: 1.1575727 (0)\ttotal: 1.43s\tremaining: 35m 40s\n",
    "50:\tlearn: 0.8640184\ttest: 0.9677260\tbest: 0.9677260 (50)\ttotal: 48.5s\tremaining: 22m 57s\n",
    "100:\tlearn: 0.7881810\ttest: 0.9398471\tbest: 0.9398471 (100)\ttotal: 1m 40s\tremaining: 23m 10s\n",
    "150:\tlearn: 0.7679923\ttest: 0.9313066\tbest: 0.9313066 (150)\ttotal: 2m 47s\tremaining: 24m 53s\n",
    "Stopped by overfitting detector  (20 iterations wait)\n",
    "\n",
    "bestTest = 0.9302290542\n",
    "bestIteration = 158\n",
    "\n",
    "Shrink model to first 159 iterations.\n",
    "--------------------------------------------------\n",
    "\n",
    "\n",
    "Training fold 2\n",
    "Warning: Overfitting detector is active, thus evaluation metric is calculated on every iteration. 'metric_period' is ignored for evaluation metric.\n",
    "0:\tlearn: 1.1660820\ttest: 1.2842634\tbest: 1.2842634 (0)\ttotal: 2.38s\tremaining: 59m 29s\n",
    "50:\tlearn: 0.8826853\ttest: 1.0427823\tbest: 1.0427823 (50)\ttotal: 1m 40s\tremaining: 47m 28s\n",
    "100:\tlearn: 0.7966804\ttest: 1.0309959\tbest: 1.0309959 (100)\ttotal: 2m 51s\tremaining: 39m 35s\n",
    "150:\tlearn: 0.7745665\ttest: 1.0159513\tbest: 1.0159513 (150)\ttotal: 4m 40s\tremaining: 41m 48s\n",
    "200:\tlearn: 0.7637740\ttest: 1.0119380\tbest: 1.0118339 (199)\ttotal: 6m 27s\tremaining: 41m 42s\n",
    "250:\tlearn: 0.7561012\ttest: 1.0092657\tbest: 1.0092657 (250)\ttotal: 8m 26s\tremaining: 42m 1s\n",
    "300:\tlearn: 0.7493929\ttest: 1.0079956\tbest: 1.0075532 (291)\ttotal: 10m 20s\tremaining: 41m 11s\n",
    "Stopped by overfitting detector  (20 iterations wait)\n",
    "\n",
    "bestTest = 1.007553196\n",
    "bestIteration = 291\n",
    "\n",
    "Shrink model to first 292 iterations.\n",
    "--------------------------------------------------\n",
    "\n",
    "\n",
    "Training fold 3\n",
    "Warning: Overfitting detector is active, thus evaluation metric is calculated on every iteration. 'metric_period' is ignored for evaluation metric.\n",
    "0:\tlearn: 1.2064768\ttest: 1.0777938\tbest: 1.0777938 (0)\ttotal: 3.54s\tremaining: 1h 28m 33s\n",
    "50:\tlearn: 0.9318607\ttest: 0.9035508\tbest: 0.9035508 (50)\ttotal: 2m 22s\tremaining: 1h 7m 20s\n",
    "Stopped by overfitting detector  (20 iterations wait)\n",
    "\n",
    "bestTest = 0.9035508379\n",
    "bestIteration = 50\n",
    "\n",
    "Shrink model to first 51 iterations.\n",
    "--------------------------------------------------\n",
    "\n",
    "\n",
    "Our out of folds rmse is 1.0239\n",
    "```"
   ]
  },
  {
   "cell_type": "code",
   "execution_count": 3,
   "metadata": {},
   "outputs": [
    {
     "name": "stdout",
     "output_type": "stream",
     "text": [
      "0.02\n",
      "0.03\n",
      "0.04\n",
      "0.05\n",
      "0.06\n",
      "0.07\n",
      "0.08\n",
      "0.09\n",
      "0.1\n"
     ]
    }
   ],
   "source": [
    "for i in range(2, 11):\n",
    "    print(i/100)"
   ]
  },
  {
   "cell_type": "code",
   "execution_count": null,
   "metadata": {},
   "outputs": [],
   "source": []
  }
 ],
 "metadata": {
  "kernelspec": {
   "display_name": "Python 3",
   "language": "python",
   "name": "python3"
  },
  "language_info": {
   "codemirror_mode": {
    "name": "ipython",
    "version": 3
   },
   "file_extension": ".py",
   "mimetype": "text/x-python",
   "name": "python",
   "nbconvert_exporter": "python",
   "pygments_lexer": "ipython3",
   "version": "3.7.3"
  },
  "toc": {
   "base_numbering": 1,
   "nav_menu": {},
   "number_sections": true,
   "sideBar": true,
   "skip_h1_title": false,
   "title_cell": "Table of Contents",
   "title_sidebar": "Contents",
   "toc_cell": false,
   "toc_position": {},
   "toc_section_display": true,
   "toc_window_display": false
  }
 },
 "nbformat": 4,
 "nbformat_minor": 2
}
